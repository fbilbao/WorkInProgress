{
 "cells": [
  {
   "cell_type": "markdown",
   "metadata": {},
   "source": [
    "# Data Science with Hadoop - Predicting airline delays with Apache HIVE and R"
   ]
  },
  {
   "cell_type": "markdown",
   "metadata": {},
   "source": [
    "# Introduction"
   ]
  },
  {
   "cell_type": "markdown",
   "metadata": {},
   "source": [
    "With the rapid adoption of Apache Hadoop in the enterprise, machine learning is becoming a key technology used by enterprises to extract tangible business value from their massive data assets. This derivation of business value is possible because Apache Hadoop YARN as the architectural center of Modern Data Architecture (MDA) allows purpose-built data engines such as Apache Tez and Apache Spark to process and iterate over multiple datasets for data science techniques within the same cluster.\n",
    "\n",
    "It is a common misconception that the way we apply predictive learning algorithms like Linear Regression, Random Forest or Neural Networks to large datasets requires a dramatic change in approach, in tooling, or dedicated, siloed clusters. In fact, the big change is in what is known as “feature engineering” – the process by which very big raw data is transformed into a “feature matrix”. Enabled by Hadoop with YARN as an ideal platform, this transformation of large raw datasets (terabytes or petabytes) into a feature matrix is now scalable and not limited by RAM or compute power of a single node.\n",
    "\n",
    "Since the output of the feature engineering step (the \"feature matrix\") tends to be relatively small in size (typically in the 2-20GB range), a common choice is to run the learning algorithm on a single machine (often with multiple cores and high amount of RAM), allowing us to utilize a plethora of existing robust tools and algorithms from R packages, Python's Scikit-learn, SAS or others.\n",
    "\n",
    "In this interactive IPython notebook we will demonstrate, via an example, a step by step solution to a supervised learning problem using HIVE (with R UDFs) for pre-processing and R for modeling. \n",
    "\n",
    "[R](http://www.r-project.org/) is a language and environment for statistical computing and graphics. It is a GNU project which was developed at Bell Laboratories by John Chambers and his colleagues. R is an open source project with more than 6000 packages available covering various topics in data science including classification, regression, clustering, anomaly detection, market basket analysis, text processing and many others. R is an extremely powerful and mature environment for statistical analysis and data science.\n",
    "\n",
    "[Apache HIVE](https://hive.apache.org/) is the de-facto SQL-on-Hadoop tool, originally developed at Facebook and now a fast, mature and effective tool for data analytics. HIVE provides a rich set of built-in funtionality, and is extensible via user-defined functions (e.g. in Java or Python) enabling custom business logic. "
   ]
  },
  {
   "cell_type": "markdown",
   "metadata": {},
   "source": [
    "# Predicting flight delays with HIVE and R"
   ]
  },
  {
   "cell_type": "markdown",
   "metadata": {},
   "source": [
    "Every year approximately 20% of airline flights are delayed or cancelled, resulting in significant costs to both travellers and airlines. As our example use-case, we will build a supervised learning model that predicts airline delay from historial flight data and weather information. \n",
    "\n",
    "<img src=http://venturevillage.eu/wp-content/uploads/2013/02/Flight-delays.jpeg>\n",
    "\n",
    "Let's begin by exploring the airline delay dataset available here:  http://stat-computing.org/dataexpo/2009/the-data.html\n",
    "This dataset includes details about flights in the US from the years 1987-2008. Every row in the dataset includes 29 variables:\n",
    "<table width=\"100%\">\n",
    "<tr>\n",
    "  <th></th>\n",
    "  <th>Name</th>\n",
    "  <th>Description</th>\n",
    "</tr>\n",
    "<tr>\n",
    " <td>1  </td><td> Year              </td><td>1987-2008</td>\n",
    "</tr><tr>\n",
    " <td>2  </td><td> Month             </td><td>1-12</td>\n",
    "</tr><tr>\n",
    " <td>3  </td><td> DayofMonth        </td><td>1-31</td>\n",
    "</tr><tr>\n",
    " <td>4  </td><td> DayOfWeek         </td><td>1 (Monday) - 7 (Sunday)</td>\n",
    "</tr><tr>\n",
    " <td>5  </td><td> DepTime           </td><td>actual departure time (local, hhmm)</td>\n",
    "</tr><tr>\n",
    " <td>6  </td><td> CRSDepTime        </td><td>scheduled departure time (local, hhmm)</td>\n",
    "</tr><tr>\n",
    " <td>7  </td><td> ArrTime           </td><td>actual arrival time (local, hhmm)</td>\n",
    "</tr><tr>\n",
    " <td>8  </td><td> CRSArrTime        </td><td>scheduled arrival time (local, hhmm)</td>\n",
    "</tr><tr>\n",
    " <td>9  </td><td> UniqueCarrier     </td><td>unique carrier code</td>\n",
    "</tr><tr>\n",
    " <td>10 </td><td> FlightNum         </td><td>flight number</td>\n",
    "</tr><tr>\n",
    " <td>11 </td><td> TailNum           </td><td>plane tail number</td>\n",
    "</tr><tr>\n",
    " <td>12 </td><td> ActualElapsedTime </td><td>in minutes</td>\n",
    "</tr><tr>\n",
    " <td>13 </td><td> CRSElapsedTime    </td><td>in minutes</td>\n",
    "</tr><tr>\n",
    " <td>14 </td><td> AirTime           </td><td>in minutes</td>\n",
    "</tr><tr>\n",
    " <td>15 </td><td> ArrDelay          </td><td>arrival delay, in minutes</td>\n",
    "</tr><tr>\n",
    " <td>16 </td><td> DepDelay          </td><td>departure delay, in minutes</td>\n",
    "</tr><tr>\n",
    " <td>17 </td><td> Origin            </td><td>origin - IATA airport code</td>\n",
    "</tr><tr>\n",
    " <td>18 </td><td> Dest              </td><td>destination - IATA airport code</td>\n",
    "</tr><tr>\n",
    " <td>19 </td><td> Distance          </td><td>in miles</td>\n",
    "</tr><tr>\n",
    " <td>20 </td><td> TaxiIn            </td><td>taxi in time, in minutes</td>\n",
    "</tr><tr>\n",
    " <td>21 </td><td> TaxiOut           </td><td>taxi out time in minutes</td>\n",
    "</tr><tr>\n",
    " <td>22 </td><td> Cancelled           </td><td>was the flight cancelled?</td>\n",
    "</tr><tr>\n",
    " <td>23 </td><td> CancellationCode  </td><td>reason for cancellation (A = carrier, B = weather, C = NAS, D = security)</td>\n",
    "</tr><tr>\n",
    " <td>24 </td><td> Diverted          </td><td>1 = yes, 0 = no</td>\n",
    "</tr><tr>\n",
    " <td>25 </td><td> CarrierDelay      </td><td>in minutes</td>\n",
    "</tr><tr>\n",
    " <td>26 </td><td> WeatherDelay      </td><td>in minutes</td>\n",
    "</tr><tr>\n",
    " <td>27 </td><td> NASDelay          </td><td>in minutes</td>\n",
    "</tr><tr>\n",
    " <td>28 </td><td> SecurityDelay     </td><td>in minutes</td>\n",
    "</tr><tr>\n",
    " <td>29 </td><td> LateAircraftDelay </td><td>in minutes</td>\n",
    "</tr>\n",
    "</table>\n",
    "\n",
    "Before we start modeling, let's do some exploration of this dataset."
   ]
  },
  {
   "cell_type": "markdown",
   "metadata": {},
   "source": [
    "# Data Exploration"
   ]
  },
  {
   "cell_type": "markdown",
   "metadata": {},
   "source": [
    "R is a fantastic environment for data exploration and is often used for this purpose. With a ton of statistical and data manipulation functionality being part of core R, as well as powerful graphics packages such as ggplot2, performing data exploration in R is easy and fun."
   ]
  },
  {
   "cell_type": "markdown",
   "metadata": {},
   "source": [
    "Then we load RJDBC and setup the connection to HIVE. We also define the exec.query() function to remove the table name from column names in the result set, for convenience:"
   ]
  },
  {
   "cell_type": "code",
   "execution_count": 1,
   "metadata": {
    "collapsed": false
   },
   "outputs": [
    {
     "name": "stderr",
     "output_type": "stream",
     "text": [
      "Loading required package: rJava\n",
      "Loading required package: RJDBC\n",
      "Loading required package: DBI\n"
     ]
    }
   ],
   "source": [
    "require(rJava)\n",
    "require(RJDBC)\n",
    "\n",
    "drv <- JDBC(\"org.apache.hive.jdbc.HiveDriver\", \n",
    "            classPath = c(\"/usr/hdp/current/hive-client/lib/hive-jdbc.jar\", \n",
    "                          \"/usr/hdp/current/hadoop-client/hadoop-common.jar\"))\n",
    "conn <- dbConnect(drv, \"jdbc:hive2://ml-master.cloud.hortonworks.com:10000/demo\", \"jupyter\", \"hadoop\")\n",
    "\n",
    "exec.query <- function(query) {\n",
    "    df = dbGetQuery(conn, query)\n",
    "    names(df) = sapply(names(df), function(x) {\n",
    "        x = unlist(strsplit(x, split='.', fixed=T))\n",
    "        if (length(x)>1) x[2] else x[1]\n",
    "    }) \n",
    "    df\n",
    "}"
   ]
  },
  {
   "cell_type": "markdown",
   "metadata": {},
   "source": [
    "Let's take a quick look at the data:"
   ]
  },
  {
   "cell_type": "code",
   "execution_count": 2,
   "metadata": {
    "collapsed": false
   },
   "outputs": [
    {
     "name": "stdout",
     "output_type": "stream",
     "text": [
      "  year month day dayofweek deptime crsdeptime arrtime crsarrtime carrier\n",
      "1 2007     1   1         1    1232       1225    1341       1340      WN\n",
      "2 2007     1   1         1    1918       1905    2043       2035      WN\n",
      "3 2007     1   1         1    2206       2130    2334       2300      WN\n",
      "4 2007     1   1         1    1230       1200    1356       1330      WN\n",
      "5 2007     1   1         1     831        830     957       1000      WN\n",
      "  flightnum tailnum actualelapsedtime crselapsedtime airtime arrdelay depdelay\n",
      "1      2891    N351                69             75      54        1        7\n",
      "2       462    N370                85             90      74        8       13\n",
      "3      1229    N685                88             90      73       34       36\n",
      "4      1355    N364                86             90      75       26       30\n",
      "5      2278    N480                86             90      74       -3        1\n",
      "  origin dest distance taxiin taxiout cancelled cancellationcode diverted\n",
      "1    SMF  ONT      389      4      11         0                         0\n",
      "2    SMF  PDX      479      5       6         0                         0\n",
      "3    SMF  PDX      479      6       9         0                         0\n",
      "4    SMF  PDX      479      3       8         0                         0\n",
      "5    SMF  PDX      479      3       9         0                         0\n",
      "  carrierdelay weatherdelay nasdelay securitydelay lateaircraftdelay\n",
      "1            0            0        0             0                 0\n",
      "2            0            0        0             0                 0\n",
      "3            3            0        0             0                31\n",
      "4           23            0        0             0                 3\n",
      "5            0            0        0             0                 0\n"
     ]
    }
   ],
   "source": [
    "df_samp = exec.query(\"SELECT * FROM flights WHERE year=2007 LIMIT 5\")\n",
    "print(df_samp)"
   ]
  },
  {
   "cell_type": "markdown",
   "metadata": {},
   "source": [
    "Our \"target\" variable will be *depdelay* (departure delay in minutes). To build a classifier, we define a derived target variable by defining a \"delay\" as having 15 mins or more of delay, and \"non-delay\" otherwise. We thus replace *depdelay* with a new binary variable of the same name.\n",
    "\n",
    "Let's explore some basic statostocs about the dataset: number of flights and delays (per our new definition), after limiting ourselves to flights originating from ORD (Chicago O'Hare airport):"
   ]
  },
  {
   "cell_type": "code",
   "execution_count": 3,
   "metadata": {
    "collapsed": false
   },
   "outputs": [
    {
     "name": "stdout",
     "output_type": "stream",
     "text": [
      "[1] \"total flights in 2007: 7453215\"\n",
      "[1] \"total flights originating from ORD: 359169\"\n",
      "[1] \"total delayed flights originating from ORD: 109346\"\n"
     ]
    }
   ],
   "source": [
    "num_rows = exec.query(\"SELECT COUNT(*) FROM flights WHERE year=2007\")\n",
    "print(paste0(\"total flights in 2007: \", as.numeric(num_rows[1])))\n",
    "\n",
    "df1 = exec.query(\"SELECT * FROM flights WHERE year=2007 and origin='ORD' and depdelay is not NULL\")\n",
    "df1$depdelay = sapply(df1$depdelay, function(x) (if (as.numeric(x)>=15) 1 else 0))\n",
    "\n",
    "print(paste0(\"total flights originating from ORD: \", as.character(dim(df1)[1])))\n",
    "print(paste0(\"total delayed flights originating from ORD: \", as.character(sum(df1$depdelay))))"
   ]
  },
  {
   "cell_type": "markdown",
   "metadata": {},
   "source": [
    "The \"month\" feature is likely a good feature for modeling -- let's look at the distribution of delays (as percentage of total flights) by month:"
   ]
  },
  {
   "cell_type": "code",
   "execution_count": 4,
   "metadata": {
    "collapsed": false
   },
   "outputs": [
    {
     "name": "stderr",
     "output_type": "stream",
     "text": [
      "Loading required package: plyr\n"
     ]
    },
    {
     "data": {
      "image/png": "[encoded data removed]"
     },
     "metadata": {},
     "output_type": "display_data"
    }
   ],
   "source": [
    "require(plyr)\n",
    "df2 = df1[, c('depdelay', 'month')]\n",
    "df2$month = as.numeric(df2$month)\n",
    "df2 <- ddply(df2, .(month), summarise, mean_delay=mean(depdelay))\n",
    "barplot(df2$mean_delay, names.arg=df2$month, xlab=\"month\", ylab=\"% of delays\", col=\"blue\")"
   ]
  },
  {
   "cell_type": "markdown",
   "metadata": {},
   "source": [
    "Similarly, one would expect that \"hour of day\" would be a good feature to predict flight delays, as later flights in the day may present more delays due to density effects. Let's look at that:"
   ]
  },
  {
   "cell_type": "code",
   "execution_count": 5,
   "metadata": {
    "collapsed": false
   },
   "outputs": [
    {
     "data": {
      "image/png": "[encoded data removed]"
     },
     "metadata": {},
     "output_type": "display_data"
    }
   ],
   "source": [
    "# Extract hour of day from 3 or 4 digit time-of-day string\n",
    "get_hour <- function(x) { \n",
    "  s = sprintf(\"%04d\", as.numeric(x))\n",
    "  return(substr(s, 1, 2))\n",
    "}\n",
    "\n",
    "df2 = df1[, c('depdelay', 'crsdeptime')]\n",
    "df2$hour = as.numeric(sapply(df2$crsdeptime, get_hour))\n",
    "df2$crsdeptime <- NULL\n",
    "df2 <- ddply(df2, .(hour), summarise, mean_delay=mean(depdelay))\n",
    "barplot(df2$mean_delay, names.arg=df2$hour, xlab=\"hour of day\", ylab=\"% of delays\", col=\"green\", cex.names=.7)"
   ]
  },
  {
   "cell_type": "markdown",
   "metadata": {},
   "source": [
    "In this demo we have not explored all the variables of course, just a couple to demonstrate R's capabilities in this area. R has a wide variety of graphing tools suchas base, lattice and ggplot2."
   ]
  },
  {
   "cell_type": "markdown",
   "metadata": {},
   "source": [
    "## Pre-processing - iteration 1"
   ]
  },
  {
   "cell_type": "markdown",
   "metadata": {},
   "source": [
    "After playing around with the data, and exploring some potential features -- we will now demonstrate how to use HIVE with a  UDF in R to preform some simple pre-processing on Hadoop, and create a feature matrix from the raw dataset. \n",
    "\n",
    "To simplify, we will build a supervised learning model to predict flight delays for flights leaving O'Hare International airport (ORD), where we \"train\" the model using data from 2007, and evaluate its performance using data from 2008.\n",
    "\n",
    "In our first iteration, we create the following features:\n",
    "\n",
    "* **month**: winter months should have more delays than summer months\n",
    "* **day of month**: this is likely not a very predictive variable, but let's keep it in anyway\n",
    "* **day of week**: weekend vs. weekday\n",
    "* **Distance**: interesting to see if this variable is a good predictor of delay\n",
    "* **hour of the day**: later hours tend to have more delays\n",
    "* **days_from_closest_holiday**: number of days from date of flight to closest US holiday\n",
    "\n",
    "We use HIVE with a UDF written in R, and create two \"feature matrices\", one for 2007 and another for 2008.\n",
    "Let's look at the code. First we create our Hive UDF in R, and store it in the local folder:"
   ]
  },
  {
   "cell_type": "code",
   "execution_count": 6,
   "metadata": {
    "collapsed": false
   },
   "outputs": [],
   "source": [
    "hiveUdfStr = '\n",
    "get_hour <- function(val) { return(substr(sprintf(\"%04d\", val),1,2)) }\n",
    "\n",
    "# get number of days from nearest holiday\n",
    "holidays = sapply(c(\"2007-01-01\", \"2007-01-15\", \"2007-02-19\", \"2007-05-28\", \"2007-06-07\", \"2007-07-04\",\n",
    "                    \"2007-09-03\", \"2007-10-08\", \"2007-11-11\", \"2007-11-22\", \"2007-12-25\",\n",
    "                    \"2008-01-01\", \"2008-01-21\", \"2008-02-18\", \"2008-05-22\", \"2008-05-26\", \"2008-07-04\",\n",
    "                    \"2008-09-01\", \"2008-10-13\", \"2008-11-11\", \"2008-11-27\", \"2008-12-25\"),\n",
    "                  function(x) { as.Date(x) })\n",
    "days_from_nearest_holiday <- function(year, month, day) {\n",
    "    d = as.Date(sprintf(\"%04d-%02d-%02d\", year, month, day))\n",
    "    v = sapply(holidays, function(h) { abs(as.integer(d-h)) })\n",
    "    min(v)\n",
    "}\n",
    "\n",
    "input <- file(\"stdin\", \"r\")\n",
    "while(length(line <- readLines(input, n=1, warn=FALSE)) > 0) {\n",
    "    if(nchar(line) == 0) break\n",
    "    fields <- unlist(strsplit(line, \"\\t\"))\n",
    "    year = as.integer(fields[1]); month = as.integer(fields[2]); day = as.integer(fields[3]); \n",
    "    dayofweek = as.integer(fields[4]); depdelay = as.integer(fields[5]); \n",
    "    distance = as.integer(fields[6]); crsdeptime = as.integer(fields[7])\n",
    "    delayed = if (!is.na(depdelay) && depdelay>15) 1 else 0\n",
    "    out = paste(delayed, year, month, day, dayofweek, distance, \n",
    "                get_hour(crsdeptime), days_from_nearest_holiday(year, month, day), sep=\"\\t\")\n",
    "    write(out, stdout())\n",
    "}\n",
    "'\n",
    "\n",
    "fileConn<-file(\"/home/jupyter/notebooks/airline/hiveudf.R\")\n",
    "writeLines(hiveUdfStr, fileConn)\n",
    "close(fileConn)"
   ]
  },
  {
   "cell_type": "markdown",
   "metadata": {},
   "source": [
    "Next we crete a HIVE query, using this UDF, and execute it. This query extracts the basic features we are interested, such as month, day and distance, but also generates custom features such as hour, and day from nearest holiday via the HIVE UDF:"
   ]
  },
  {
   "cell_type": "code",
   "execution_count": 7,
   "metadata": {
    "collapsed": false
   },
   "outputs": [],
   "source": [
    "hiveScriptStr = \"\n",
    "\n",
    "USE demo;\n",
    "ADD FILE /home/jupyter/notebooks/airline/hiveudf.R;\n",
    "\n",
    "DROP TABLE fmat_2007;\n",
    "CREATE TABLE fmat_2007 (delayed int, year int, month int, day int, dayofweek int, distance int, hour int, days_from_holiday int)\n",
    "STORED AS ORC;\n",
    "\n",
    "FROM (\n",
    "    SELECT year, month, day, dayofweek, depdelay, distance, crsdeptime \n",
    "    FROM flights\n",
    "    WHERE flights.year=2007 and flights.origin='ORD' and flights.cancelled=0 and flights.depdelay is not NULL\n",
    "    DISTRIBUTE BY month\n",
    ") t1\n",
    "INSERT OVERWRITE TABLE fmat_2007\n",
    "REDUCE year, month, day, dayofweek, depdelay, distance, crsdeptime\n",
    "USING 'Rscript hiveudf.R' AS (delayed, year, month, day, dayofweek, distance, hour, days_from_holiday);\n",
    "\n",
    "DROP TABLE fmat_2008;\n",
    "CREATE TABLE fmat_2008 (delayed int, year int, month int, day int, dayofweek int, distance int, hour int, days_from_holiday int)\n",
    "STORED AS ORC;\n",
    "\n",
    "FROM (\n",
    "    SELECT year, month, day, dayofweek, depdelay, distance, crsdeptime \n",
    "    FROM flights\n",
    "    WHERE flights.year=2008 and flights.origin='ORD' and flights.cancelled=0 and flights.depdelay is not NULL\n",
    "    DISTRIBUTE BY month\n",
    ") t1\n",
    "INSERT OVERWRITE TABLE fmat_2008\n",
    "REDUCE year, month, day, dayofweek, depdelay, distance, crsdeptime\n",
    "USING 'Rscript hiveudf.R' AS (delayed, year, month, day, dayofweek, distance, hour, days_from_holiday);\n",
    "\n",
    "\"\n",
    "\n",
    "scriptFile = \"/home/jupyter/notebooks/airline/iter1.hql\"\n",
    "fileConn<-file(scriptFile)\n",
    "writeLines(hiveScriptStr, fileConn)\n",
    "close(fileConn)\n",
    "\n",
    "system2(\"hive\", c(\"-f\", scriptFile))\n"
   ]
  },
  {
   "cell_type": "markdown",
   "metadata": {},
   "source": [
    "## Modeling - iteration 1"
   ]
  },
  {
   "cell_type": "markdown",
   "metadata": {},
   "source": [
    "Now that we've generated our feature matrix using HIVE, let's turn back to using R to build a model for predicting airline delays. First we read the feature matrices, and define a helper function (get_metrics) in R to compute the classification metrics:"
   ]
  },
  {
   "cell_type": "code",
   "execution_count": 8,
   "metadata": {
    "collapsed": false
   },
   "outputs": [
    {
     "data": {
      "text/plain": [
       "  delayed month day dayofweek distance hour days_from_holiday\n",
       "1       0     9   1         6     1041   10                 2\n",
       "2       0     9   1         6      780   15                 2\n",
       "3       0     9   1         6      557   10                 2\n",
       "4       0     9   1         6      179   10                 2\n",
       "5       0     9   1         6      438   20                 2"
      ]
     },
     "execution_count": 8,
     "metadata": {},
     "output_type": "execute_result"
    }
   ],
   "source": [
    "# Function to compute Precision, Recall and F1-Measure\n",
    "get_metrics <- function(predicted, actual) {\n",
    "  tp = length(which(predicted == TRUE & actual == TRUE))\n",
    "  tn = length(which(predicted == FALSE & actual == FALSE))\n",
    "  fp = length(which(predicted == TRUE & actual == FALSE))\n",
    "  fn = length(which(predicted == FALSE & actual == TRUE))\n",
    "\n",
    "  precision = tp / (tp+fp)\n",
    "  recall = tp / (tp+fn)\n",
    "  F1 = 2*precision*recall / (precision+recall)\n",
    "  accuracy = (tp+tn) / (tp+tn+fp+fn)\n",
    "  \n",
    "  v = c(precision, recall, F1, accuracy)\n",
    "  v\n",
    "}\n",
    "\n",
    "# Load 2007 feature matrix and construct training set\n",
    "train_data = exec.query(\"SELECT delayed, month, day, dayofweek, distance, hour, days_from_holiday FROM fmat_2007\")\n",
    "train_data$month = as.factor(train_data$month)\n",
    "train_data$day = as.factor(train_data$day)\n",
    "train_data$dayofweek = as.factor(train_data$dayofweek)\n",
    "train_data$delayed = as.integer(train_data$delayed)\n",
    "\n",
    "# Load 2008 feature matrix and construct test set\n",
    "test_data = exec.query(\"SELECT delayed, month, day, dayofweek, distance, hour, days_from_holiday FROM fmat_2008\")\n",
    "test_data$month = as.factor(test_data$month)\n",
    "test_data$day = as.factor(test_data$day)\n",
    "test_data$dayofweek = as.factor(test_data$dayofweek)\n",
    "test_data$delayed = as.integer(test_data$delayed)\n",
    "\n",
    "head(train_data, 5)"
   ]
  },
  {
   "cell_type": "markdown",
   "metadata": {},
   "source": [
    "Now we train our model using R's Gradient Boosted Machines (GBM) library. GBM is an ensemble method that is typically robust to over-fitting, and has pretty good performance. "
   ]
  },
  {
   "cell_type": "code",
   "execution_count": 9,
   "metadata": {
    "collapsed": false
   },
   "outputs": [
    {
     "name": "stderr",
     "output_type": "stream",
     "text": [
      "Loading required package: gbm\n",
      "Loading required package: survival\n",
      "Loading required package: splines\n",
      "Loading required package: lattice\n",
      "Loading required package: parallel\n",
      "Loaded gbm 2.1\n"
     ]
    },
    {
     "name": "stdout",
     "output_type": "stream",
     "text": [
      "[1] \"Gradient Boosted Machines: precision=0.43, recall=0.29, F1=0.34, accuracy=0.70\"\n"
     ]
    }
   ],
   "source": [
    "nTrees = 5000\n",
    "require(gbm)\n",
    "gbm.model <- gbm(delayed ~ ., data=train_data, n.trees=nTrees, verbose=F, shrinkage=0.5, \n",
    "                 distribution=\"bernoulli\", interaction.depth=3, n.minobsinnode=30, cv.folds=3)\n",
    "gbm.pr <- predict(gbm.model, newdata=test_data[,-1], n.trees=nTrees, type=\"response\")\n",
    "m.gbm = get_metrics(gbm.pr >= 0.5, as.logical(test_data$delayed))\n",
    "print(sprintf(\"Gradient Boosted Machines: precision=%0.2f, recall=%0.2f, F1=%0.2f, accuracy=%0.2f\", \n",
    "              m.gbm[1], m.gbm[2], m.gbm[3], m.gbm[4]))"
   ]
  },
  {
   "cell_type": "markdown",
   "metadata": {},
   "source": [
    "GBM has a capability to present performance of the model per number of trees, as well as feature importance, let's take a look:"
   ]
  },
  {
   "cell_type": "code",
   "execution_count": 10,
   "metadata": {
    "collapsed": false
   },
   "outputs": [
    {
     "name": "stdout",
     "output_type": "stream",
     "text": [
      "Using cv method...\n"
     ]
    },
    {
     "data": {
      "text/plain": [
       "[1] 4528"
      ]
     },
     "execution_count": 10,
     "metadata": {},
     "output_type": "execute_result"
    },
    {
     "data": {
      "image/png": "[encoded data removed]"
     },
     "metadata": {},
     "output_type": "display_data"
    },
    {
     "data": {
      "text/plain": [
       "                                var   rel.inf\n",
       "day                             day 47.520757\n",
       "month                         month 23.690586\n",
       "hour                           hour 14.309852\n",
       "distance                   distance  6.286201\n",
       "dayofweek                 dayofweek  5.344908\n",
       "days_from_holiday days_from_holiday  2.847696"
      ]
     },
     "execution_count": 10,
     "metadata": {},
     "output_type": "execute_result"
    },
    {
     "data": {
      "image/png": "[encoded data removed]"
     },
     "metadata": {},
     "output_type": "display_data"
    }
   ],
   "source": [
    "gbm.perf(gbm.model)\n",
    "summary(gbm.model)"
   ]
  },
  {
   "cell_type": "markdown",
   "metadata": {},
   "source": [
    "Using Gradient Boosted Machines we get reasonable results for our predictive model using a simple set of features. Can we do better? It's often the case that adding new features from additional data sources may improve the predictive performance of the model. We tackle this next."
   ]
  },
  {
   "cell_type": "markdown",
   "metadata": {},
   "source": [
    "## Pre-processing - iteration 2"
   ]
  },
  {
   "cell_type": "markdown",
   "metadata": {},
   "source": [
    "A reasonable way to improve accuracy for this model is to layer-in weather data and with it add more informative features to our model. We can get this data from a publicly available dataset here: http://www.ncdc.noaa.gov/cdo-web/datasets/\n",
    "\n",
    "We now add these additional weather-related features to our model: daily temperatures (min/max), wind speed, snow conditions and precipitation in the flight origin airport (ORD). \n",
    "\n",
    "So let's re-write our HIVE script to add these new features to our feature matrix. \n",
    "\n",
    "We make use of a HIVE UDF that resides in the tomap.jar, which allows us to implement functionality similar to PIVOT. We group by <station,year,month,day> and collect for each such group the various metrics in a map structure; then we translate this into individual columns for the metrics we want: TMIN, TMAX, SNOW, PRCP and AWND. tomap.jar is from code available here: https://github.com/wdavidw/hive-udf"
   ]
  },
  {
   "cell_type": "code",
   "execution_count": 11,
   "metadata": {
    "collapsed": false
   },
   "outputs": [],
   "source": [
    "hiveScriptStr = \"\n",
    "\n",
    "USE demo;\n",
    "ADD FILE /home/jupyter/notebooks/airline/hiveudf.R;\n",
    "ADD JAR /home/jupyter/notebooks/airline/tomap.jar;\n",
    "CREATE TEMPORARY FUNCTION to_map as 'com.adaltas.UDAFToMap';\n",
    "\n",
    "DROP TABLE fmat_2007_2;\n",
    "CREATE TABLE fmat_2007_2 (delayed int, year int, month int, day int, dayofweek int, \n",
    "                          distance int, hour int, days_from_holiday int,\n",
    "                          tmin float, tmax float, prcp float, awnd float, snow float) STORED AS ORC;\n",
    "\n",
    "INSERT OVERWRITE TABLE fmat_2007_2\n",
    "SELECT * FROM \n",
    "(SELECT delayed, f.year, f.month, f.day, dayofweek, distance, hour, days_from_holiday, tmin, tmax, prcp, awnd, snow\n",
    "  FROM (\n",
    "    FROM (\n",
    "        SELECT year, month, day, dayofweek, depdelay, distance, crsdeptime \n",
    "        FROM flights\n",
    "        WHERE flights.year=2007 and flights.origin='ORD' and flights.cancelled=0 and flights.depdelay is not NULL\n",
    "        DISTRIBUTE BY month) t1\n",
    "    REDUCE year, month, day, dayofweek, depdelay, distance, crsdeptime\n",
    "    USING 'Rscript hiveudf.R' AS (delayed, year, month, day, dayofweek, distance, hour, days_from_holiday)\n",
    "  ) f\n",
    "  JOIN\n",
    "  (\n",
    "    SELECT station, year, month, day,\n",
    "           mapvars['TMIN'] as tmin, mapvars['TMAX'] as tmax, \n",
    "           mapvars['SNOW'] as snow, mapvars['PRCP'] as prcp, mapvars['AWND'] as awnd\n",
    "    FROM (SELECT station, year, month, day, to_map(metric,value) as mapvars\n",
    "           FROM weather WHERE station = 'USW00094846'\n",
    "           GROUP BY station, year, month, day) subq\n",
    "  ) w     \n",
    "  ON (w.year = f.year and w.month = f.month and w.day = f.day)\n",
    ") subq;\n",
    "\n",
    "DROP TABLE fmat_2008_2;\n",
    "CREATE TABLE fmat_2008_2 (delayed int, year int, month int, day int, dayofweek int, \n",
    "                          distance int, hour int, days_from_holiday int,\n",
    "                          tmin float, tmax float, prcp float, awnd float, snow float) STORED AS ORC;\n",
    "INSERT OVERWRITE TABLE fmat_2008_2\n",
    "SELECT * FROM \n",
    "(SELECT delayed, f.year, f.month, f.day, dayofweek, distance, hour, days_from_holiday, tmin, tmax, prcp, awnd, snow\n",
    "  FROM (\n",
    "    FROM (\n",
    "        SELECT year, month, day, dayofweek, depdelay, distance, crsdeptime \n",
    "        FROM flights\n",
    "        WHERE flights.year=2008 and flights.origin='ORD' and flights.cancelled=0 and flights.depdelay is not NULL\n",
    "        DISTRIBUTE BY month) t1\n",
    "    REDUCE year, month, day, dayofweek, depdelay, distance, crsdeptime\n",
    "    USING 'Rscript hiveudf.R' AS (delayed, year, month, day, dayofweek, distance, hour, days_from_holiday)\n",
    "  ) f\n",
    "  JOIN\n",
    "  (\n",
    "    SELECT station, year, month, day,\n",
    "           mapvars['TMIN'] as tmin, mapvars['TMAX'] as tmax, \n",
    "           mapvars['SNOW'] as snow, mapvars['PRCP'] as prcp, mapvars['AWND'] as awnd\n",
    "    FROM (SELECT station, year, month, day, to_map(metric,value) as mapvars\n",
    "           FROM weather WHERE station = 'USW00094846'\n",
    "           GROUP BY station, year, month, day) subq\n",
    "  ) w     \n",
    "  ON (w.year = f.year and w.month = f.month and w.day = f.day)\n",
    ") subq;\n",
    "\"\n",
    "\n",
    "scriptFile = \"/home/jupyter/notebooks/airline/iter2.hql\"\n",
    "fileConn<-file(scriptFile)\n",
    "writeLines(hiveScriptStr, fileConn)\n",
    "close(fileConn)\n",
    "\n",
    "system2(\"hive\", c(\"-f\", scriptFile))\n",
    "        "
   ]
  },
  {
   "cell_type": "markdown",
   "metadata": {},
   "source": [
    "## Modeling - iteration 2"
   ]
  },
  {
   "cell_type": "markdown",
   "metadata": {},
   "source": [
    "Now let's re-build the Gradient Boosted Tree models with the enahanced feature matrices.\n",
    "As before, we first prepare our training set and test set:"
   ]
  },
  {
   "cell_type": "code",
   "execution_count": 12,
   "metadata": {
    "collapsed": false
   },
   "outputs": [
    {
     "data": {
      "text/plain": [
       "  delayed month day dayofweek distance hour days_from_holiday tmin tmax prcp\n",
       "1       0     6  10         7     1721   17                 3  128  272    0\n",
       "2       0     6  10         7      740    6                 3  128  272    0\n",
       "3       0     6  10         7      740    9                 3  128  272    0\n",
       "4       0     6  10         7      740   12                 3  128  272    0\n",
       "5       0     6  10         7      740   15                 3  128  272    0\n",
       "  awnd snow\n",
       "1   25    0\n",
       "2   25    0\n",
       "3   25    0\n",
       "4   25    0\n",
       "5   25    0"
      ]
     },
     "execution_count": 12,
     "metadata": {},
     "output_type": "execute_result"
    }
   ],
   "source": [
    "# Load 2007 feature matrix and construct training set\n",
    "train_data = exec.query(\"SELECT delayed, month, day, dayofweek, distance, hour, days_from_holiday, \n",
    "                         tmin, tmax, prcp, awnd, snow \n",
    "                         FROM fmat_2007_2\")\n",
    "train_data$month = as.factor(train_data$month)\n",
    "train_data$day = as.factor(train_data$day)\n",
    "train_data$dayofweek = as.factor(train_data$dayofweek)\n",
    "train_data$delayed = as.integer(train_data$delayed)\n",
    "\n",
    "# Load 2008 feature matrix and construct test set\n",
    "test_data = exec.query(\"SELECT delayed, month, day, dayofweek, distance, hour, days_from_holiday, \n",
    "                        tmin, tmax, prcp, awnd, snow\n",
    "                        FROM fmat_2008_2\")\n",
    "test_data$month = as.factor(test_data$month)\n",
    "test_data$day = as.factor(test_data$day)\n",
    "test_data$dayofweek = as.factor(test_data$dayofweek)\n",
    "test_data$delayed = as.integer(test_data$delayed)\n",
    "\n",
    "head(train_data, 5)"
   ]
  },
  {
   "cell_type": "markdown",
   "metadata": {},
   "source": [
    "Now let's try a gradient boosted tree model:"
   ]
  },
  {
   "cell_type": "code",
   "execution_count": 13,
   "metadata": {
    "collapsed": false
   },
   "outputs": [
    {
     "name": "stdout",
     "output_type": "stream",
     "text": [
      "[1] \"Gradient Boosted Machines: precision=0.52, recall=0.38, F1=0.44, accuracy=0.73\"\n"
     ]
    }
   ],
   "source": [
    "nTrees = 5000\n",
    "require(gbm)\n",
    "gbm.model <- gbm(delayed ~ ., data=train_data, n.trees=nTrees, verbose=F, shrinkage=0.5, \n",
    "                 distribution=\"bernoulli\", interaction.depth=3, n.minobsinnode=30, cv.folds=3)\n",
    "gbm.pr <- predict(gbm.model, newdata=test_data[,-1], n.trees=nTrees, type=\"response\")\n",
    "m.gbm = get_metrics(gbm.pr >= 0.5, as.logical(test_data$delayed))\n",
    "print(sprintf(\"Gradient Boosted Machines: precision=%0.2f, recall=%0.2f, F1=%0.2f, accuracy=%0.2f\", \n",
    "              m.gbm[1], m.gbm[2], m.gbm[3], m.gbm[4]))"
   ]
  },
  {
   "cell_type": "code",
   "execution_count": 14,
   "metadata": {
    "collapsed": false
   },
   "outputs": [
    {
     "name": "stdout",
     "output_type": "stream",
     "text": [
      "Using cv method...\n"
     ]
    },
    {
     "data": {
      "text/plain": [
       "[1] 3242"
      ]
     },
     "execution_count": 14,
     "metadata": {},
     "output_type": "execute_result"
    },
    {
     "data": {
      "image/png": "[encoded data removed]"
     },
     "metadata": {},
     "output_type": "display_data"
    },
    {
     "data": {
      "text/plain": [
       "                                var   rel.inf\n",
       "day                             day 41.169864\n",
       "month                         month 16.258939\n",
       "hour                           hour 13.566685\n",
       "prcp                           prcp  7.032329\n",
       "distance                   distance  6.156920\n",
       "awnd                           awnd  3.836825\n",
       "dayofweek                 dayofweek  3.272542\n",
       "tmax                           tmax  2.861119\n",
       "tmin                           tmin  2.156622\n",
       "snow                           snow  2.027188\n",
       "days_from_holiday days_from_holiday  1.660966"
      ]
     },
     "execution_count": 14,
     "metadata": {},
     "output_type": "execute_result"
    },
    {
     "data": {
      "image/png": "[encoded data removed]"
     },
     "metadata": {},
     "output_type": "display_data"
    }
   ],
   "source": [
    "gbm.perf(gbm.model)\n",
    "summary(gbm.model)"
   ]
  },
  {
   "cell_type": "markdown",
   "metadata": {},
   "source": [
    "## Summary"
   ]
  },
  {
   "cell_type": "markdown",
   "metadata": {},
   "source": [
    "In this demo we used an IPython notebook to demonstrate how to build a predictive model for airline delays. We have used HIVE and R on our HDP cluster to pre-process the data, build a feature matrix, and apply machine learning algorithms to the resulting datasets. We had shown how through iterations we add new features resulting in better model performance."
   ]
  }
 ],
 "metadata": {
  "kernelspec": {
   "display_name": "R",
   "language": "",
   "name": "r"
  },
  "language_info": {
   "codemirror_mode": "r",
   "file_extension": ".r",
   "mimetype": "text/x-r-source",
   "name": "R",
   "pygments_lexer": "r",
   "version": "3.1.3"
  }
 },
 "nbformat": 4,
 "nbformat_minor": 0
}
