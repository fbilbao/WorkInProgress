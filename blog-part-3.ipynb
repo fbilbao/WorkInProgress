{
 "metadata": {
  "name": "",
  "signature": "sha256:ce8f54ded6e9f229ca2ea9615956dd4930c213fdf6de4c15e9372a2d01ad5bfd"
 },
 "nbformat": 3,
 "nbformat_minor": 0,
 "worksheets": [
  {
   "cells": [
    {
     "cell_type": "heading",
     "level": 1,
     "metadata": {},
     "source": [
      "Data Science with Hadoop - Predicting airline delays - part 3: Scalding and R"
     ]
    },
    {
     "cell_type": "heading",
     "level": 1,
     "metadata": {},
     "source": [
      "Introduction"
     ]
    },
    {
     "cell_type": "markdown",
     "metadata": {},
     "source": [
      "In this 3rd part of the blog post on data science, we continue to demonstrate how to build a predictive model with Hadoop, highlighting various tools that can be effectively used in this process. This time we'll use Scalding for pre-processing and R for modeling.\n",
      "\n",
      "[R](http://www.r-project.org/) is a language and environment for statistical computing and graphics. It is a GNU project which was developed at Bell Laboratories by John Chambers and his colleagues. R is an open source project with more than 6000 packages available covering various topics in data science including classification, regression, clustering, anomaly detection, market basket analysis, text processing and many others. R is an extremely powerful and mature environment for statistical analysis and data science.\n",
      "\n",
      "[Scalding](https://github.com/twitter/scalding) is a Scala library that makes it easy to specify Hadoop MapReduce jobs using higher level abstractions of a data pipeline. Scalding is built on top of [Cascading](http://www.cascading.org/), a Java library that abstracts away low-level Hadoop details. Scalding is comparable to Pig, but offers tight integration with Scala, bringing advantages of Scala to your MapReduce jobs.\n",
      "\n",
      "Recall from the first blog post that we are constructing a predictive model for flight delays. Our source dataset resides here: http://stat-computing.org/dataexpo/2009/the-data.html, and includes details about flights in the US from the years 1987-2008. We will also enrich the data with weather information from: http://www.ncdc.noaa.gov/cdo-web/datasets/, where we find daily temperatures (min/max), wind speed, snow conditions and precipitation. \n",
      "\n",
      "We will build a supervised learning model to predict flight delays for flights leaving O'Hare International airport (ORD), using the year 2007 data to build the model, and 2008 data to test its validity."
     ]
    },
    {
     "cell_type": "heading",
     "level": 1,
     "metadata": {},
     "source": [
      "Data Exploration"
     ]
    },
    {
     "cell_type": "markdown",
     "metadata": {},
     "source": [
      "R is a fantastic environment for data exploration and is often used for this purpoase. With a ton of statistical and data manipulation functionality being part of core R, as well as powerful graphics packages such as ggplot, performing data exploration in R is easy and fun.\n",
      "\n",
      "Let's first enable R cells in IPython:"
     ]
    },
    {
     "cell_type": "code",
     "collapsed": false,
     "input": [
      "%%capture\n",
      "%load_ext rpy2.ipython"
     ],
     "language": "python",
     "metadata": {},
     "outputs": [],
     "prompt_number": 1
    },
    {
     "cell_type": "markdown",
     "metadata": {},
     "source": [
      "Before we start our data exploration example, we load various packages we need for later. We will use the [RHDFS](https://github.com/RevolutionAnalytics/RHadoop/wiki) package from RHadoop to read files from HDFS; however we need the ability to read a multi-part file from HDFS into R as a single data frame, so we define the *read_csv_from_hdfs* function in R:"
     ]
    },
    {
     "cell_type": "code",
     "collapsed": false,
     "input": [
      "%%capture\n",
      "%%R\n",
      "\n",
      "# load required R packages\n",
      "require(rhdfs)\n",
      "require(randomForest)\n",
      "require(gbm)\n",
      "require(plyr)\n",
      "require(data.table)\n",
      "\n",
      "# Initialize RHDFS package\n",
      "hdfs.init(hadoop='/usr/bin/hadoop')\n",
      "\n",
      "# Utility function to read a multi-part file from HDFS into an R data frame\n",
      "read_csv_from_hdfs <- function(filename, cols=NULL) {\n",
      "  dir.list = hdfs.ls(filename)\n",
      "  list.condition <- sapply(dir.list$size, function(x) x > 0)\n",
      "  file.list  <- dir.list[list.condition,]\n",
      "  tables <- lapply(file.list$file, function(f) {\n",
      "    content <- paste(hdfs.read.text.file(f, n = 100000L, buffer=100000000L), collapse='\\n')\n",
      "    if (length(cols)==0) {\n",
      "      dt = fread(content, sep=\",\", colClasses=\"character\", stringsAsFactors=F, header=T)   \n",
      "    } else {\n",
      "      dt = fread(content, sep=\",\", colClasses=\"character\", stringsAsFactors=F, header=F)   \n",
      "      setnames(dt, names(dt), cols)    \n",
      "    }\n",
      "    dt\n",
      "  })\n",
      "  rbind.fill(tables)\n",
      "}"
     ],
     "language": "python",
     "metadata": {},
     "outputs": [],
     "prompt_number": 2
    },
    {
     "cell_type": "markdown",
     "metadata": {},
     "source": [
      "We now explore the 2007 delay dataset to determine which variables are reasonable to use for this prediction task. First let's load the data into an R dataframe:"
     ]
    },
    {
     "cell_type": "code",
     "collapsed": false,
     "input": [
      "%%R\n",
      "cols = c('year', 'month', 'day', 'dow', 'DepTime', 'CRSDepTime', 'ArrTime', 'CRSArrTime','Carrier', 'FlightNum', 'TailNum', \n",
      "         'ActualElapsedTime', 'CRSElapsedTime', 'AirTime', 'ArrDelay', 'DepDelay', 'Origin', 'Dest', 'Distance', 'TaxiIn', \n",
      "         'TaxiOut', 'Cancelled', 'CancellationCode', 'Diverted', 'CarrierDelay', 'WeatherDelay', 'NASDelay', 'SecurityDelay', \n",
      "         'LateAircraftDelay');\n",
      "flt_2007 = read_csv_from_hdfs('/user/demo/airline/delay/2007.csv', cols)\n",
      "\n",
      "print(dim(flt_2007))"
     ],
     "language": "python",
     "metadata": {},
     "outputs": [
      {
       "metadata": {},
       "output_type": "display_data",
       "text": [
        "\r",
        "Read 0.0% of 7453216 rows\r",
        "Read 5.0% of 7453216 rows\r",
        "Read 9.9% of 7453216 rows\r",
        "Read 14.9% of 7453216 rows\r",
        "Read 19.9% of 7453216 rows\r",
        "Read 24.8% of 7453216 rows\r",
        "Read 29.8% of 7453216 rows\r",
        "Read 34.8% of 7453216 rows\r",
        "Read 39.6% of 7453216 rows\r",
        "Read 44.4% of 7453216 rows\r",
        "Read 49.2% of 7453216 rows\r",
        "Read 54.1% of 7453216 rows\r",
        "Read 58.9% of 7453216 rows\r",
        "Read 63.9% of 7453216 rows\r",
        "Read 68.8% of 7453216 rows\r",
        "Read 73.8% of 7453216 rows\r",
        "Read 78.6% of 7453216 rows\r",
        "Read 83.6% of 7453216 rows\r",
        "Read 88.4% of 7453216 rows\r",
        "Read 93.4% of 7453216 rows\r",
        "Read 98.3% of 7453216 rows\r",
        "Read 7453216 rows and 29 (of 29) columns from 0.655 GB file in 00:00:32\n",
        "[1] 7453216      29\n"
       ]
      }
     ],
     "prompt_number": 3
    },
    {
     "cell_type": "markdown",
     "metadata": {},
     "source": [
      "We have 7.4M+ flights in 2007 and 29 variables.\n",
      "\n",
      "Our \"target\" variable will be *DepDelay* (departure delay in minutes). To build a classifier, we define a derived target variable by defining a \"delay\" as having 15 mins or more of delay, and \"non-delay\" otherwise. We thus create a new binary variable that we name *'DepDelayed'*.\n",
      "\n",
      "Let's look at some basic statistics of flights and delays (per our new definition), after limiting ourselves to flights originating from ORD:"
     ]
    },
    {
     "cell_type": "code",
     "collapsed": false,
     "input": [
      "%%R\n",
      "df1 = flt_2007[which(flt_2007$Origin == 'ORD' & !is.na(flt_2007$DepDelay)),]\n",
      "df1$DepDelay = sapply(df1$DepDelay, function(x) (if (as.numeric(x)>=15) 1 else 0))\n",
      "\n",
      "print(paste0(\"total flights: \", as.character(dim(df1)[1])))\n",
      "print(paste0(\"total delays: \", as.character(sum(df1$DepDelay))))"
     ],
     "language": "python",
     "metadata": {},
     "outputs": [
      {
       "metadata": {},
       "output_type": "display_data",
       "text": [
        "[1] \"total flights: 359169\"\n",
        "[1] \"total delays: 109346\"\n"
       ]
      }
     ],
     "prompt_number": 4
    },
    {
     "cell_type": "markdown",
     "metadata": {},
     "source": [
      "The \"month\" feature is likely a good feature for modeling -- let's look at the distribution of delays (as percentage of total flights) by month:"
     ]
    },
    {
     "cell_type": "code",
     "collapsed": false,
     "input": [
      "%%R\n",
      "df2 = df1[, c('DepDelay', 'month'), with=F]\n",
      "df2$month = as.numeric(df2$month)\n",
      "df2 <- ddply(df2, .(month), summarise, mean_delay=mean(DepDelay))\n",
      "barplot(df2$mean_delay, names.arg=df2$month, xlab=\"month\", ylab=\"% of delays\", col=\"blue\")"
     ],
     "language": "python",
     "metadata": {},
     "outputs": [
      {
       "metadata": {},
       "output_type": "display_data",
       "png": "[encoded data removed]"
      }
     ],
     "prompt_number": 5
    },
    {
     "cell_type": "markdown",
     "metadata": {},
     "source": [
      "Similarly, one would expect that \"hour of day\" would be a good feature to predict flight delays, as later flights in the day may present more delays due to density effects. Let's look at that:"
     ]
    },
    {
     "cell_type": "code",
     "collapsed": false,
     "input": [
      "%%R\n",
      "\n",
      "# Extract hour of day from 3 or 4 digit time-of-day string\n",
      "get_hour <- function(x) { \n",
      "  s = sprintf(\"%04d\", as.numeric(x))\n",
      "  return(substr(s, 1, 2))\n",
      "}\n",
      "\n",
      "df2 = df1[, c('DepDelay', 'CRSDepTime'), with=F]\n",
      "df2$hour = as.numeric(sapply(df2$CRSDepTime, get_hour))\n",
      "df2$CRSDepTime <- NULL\n",
      "df2 <- ddply(df2, .(hour), summarise, mean_delay=mean(DepDelay))\n",
      "barplot(df2$mean_delay, names.arg=df2$hour, xlab=\"hour of day\", ylab=\"% of delays\", col=\"green\")"
     ],
     "language": "python",
     "metadata": {},
     "outputs": [
      {
       "metadata": {},
       "output_type": "display_data",
       "png": "[encoded data removed]"
      }
     ],
     "prompt_number": 6
    },
    {
     "cell_type": "markdown",
     "metadata": {},
     "source": [
      "In this demo we have not explored all the variables of course, just a couple to demonstrate R's capabilities in this area."
     ]
    },
    {
     "cell_type": "heading",
     "level": 2,
     "metadata": {},
     "source": [
      "Pre-processing - iteration 1"
     ]
    },
    {
     "cell_type": "markdown",
     "metadata": {},
     "source": [
      "After playing around with the data, and exploring some potential features -- we will now demonstrate how to use Scalding to preform some simple pre-processing on Hadoop, and create a feature matrix from the raw dataset. This is similar to the pre-processing shown in part 1 of the blog post (where we've used PIG for this purpose) and part 2 (where we've used Spark for this purpose).\n",
      "\n",
      "In our first iteration, we create the following features:\n",
      "\n",
      "* **month**: winter months should have more delays than summer months\n",
      "* **day of month**: this is likely not a very predictive variable, but let's keep it in anyway\n",
      "* **day of week**: weekend vs. weekday\n",
      "* **hour of the day**: later hours tend to have more delays\n",
      "* **Distance**: interesting to see if this variable is a good predictor of delay\n",
      "* **days_from_closest_holiday**: number of days from date of flight to closest US holiday\n",
      "\n",
      "Let's look at the Scalding code.\n",
      "Note that we write the code in the next cell using IPython's \"writefile\" magic command and then execute it later from that local file."
     ]
    },
    {
     "cell_type": "code",
     "collapsed": false,
     "input": [
      "%%writefile preprocess1.scala\n",
      "\n",
      "package com.hortonworks.datascience.demo1\n",
      "\n",
      "import com.twitter.scalding._\n",
      "import org.joda.time.format._\n",
      "import org.joda.time.{Days, DateTime}\n",
      "import com.hortonworks.datascience.demo1.ScaldingFlightDelays._\n",
      "\n",
      "/**\n",
      " * Pre-process flight delay data into feature matrix - iteration #1\n",
      " */\n",
      "class ScaldingFlightDelays(args: Args) extends Job(args) {\n",
      "\n",
      "  val prepData = Csv(args(\"input\"), \",\", fields = inputSchema, skipHeader = true)\n",
      "    .read\n",
      "    .project(delaySchmea)\n",
      "    .filter(('Origin,'Cancelled)) { x:(String,String) => x._1 == \"ORD\" && x._2 == \"0\"}\n",
      "    .mapTo(featureSchmea -> outputSchema)(gen_features)\n",
      "    .write(Csv(args(\"output\")))\n",
      "}\n",
      "\n",
      "object ScaldingFlightDelays {\n",
      "  val inputSchema = List('Year, 'Month, 'DayofMonth, 'DayOfWeek, \n",
      "                    'DepTime, 'CRSDepTime, 'ArrTime, 'CRSArrTime, \n",
      "                    'UniqueCarrier, 'FlightNum, 'TailNum, \n",
      "                    'ActualElapsedTime, 'CRSElapsedTime, 'AirTime, 'ArrDelay, \n",
      "                    'DepDelay, 'Origin, 'Dest, 'Distance, \n",
      "                    'TaxiIn, 'TaxiOut, 'Cancelled, 'CancellationCode, \n",
      "                    'Diverted, 'CarrierDelay, 'WeatherDelay, \n",
      "                    'NASDelay, 'SecurityDelay, 'LateAircraftDelay)\n",
      "  val delaySchmea = List('Year, 'Month, 'DayofMonth, 'DayOfWeek, \n",
      "                         'CRSDepTime, 'DepDelay, 'Origin, 'Distance, 'Cancelled)\n",
      "  val featureSchmea = List('Year, 'Month, 'DayofMonth, 'DayOfWeek, \n",
      "                           'CRSDepTime, 'DepDelay, 'Distance)\n",
      "  val outputSchema = List('flightDate,'y,'m,'dm,'dw,'crs,'dep,'dist)\n",
      "\n",
      "  val holidays = List(\"01/01/2007\", \"01/15/2007\", \"02/19/2007\", \"05/28/2007\", \"06/07/2007\", \"07/04/2007\",\n",
      "    \"09/03/2007\", \"10/08/2007\" ,\"11/11/2007\", \"11/22/2007\", \"12/25/2007\",\n",
      "    \"01/01/2008\", \"01/21/2008\", \"02/18/2008\", \"05/22/2008\", \"05/26/2008\", \"07/04/2008\",\n",
      "    \"09/01/2008\", \"10/13/2008\" ,\"11/11/2008\", \"11/27/2008\", \"12/25/2008\")\n",
      "\n",
      "  def gen_features(tuple: (String,String,String,String,String,String,String)) = {\n",
      "    val (year, month, dayOfMonth, dayOfWeek, crsDepTime, depDelay, distance) = tuple\n",
      "    val date = to_date(year.toInt,month.toInt,dayOfMonth.toInt)\n",
      "    val hour = get_hour(crsDepTime)\n",
      "    val holidayDist = days_from_nearest_holiday(year.toInt,month.toInt,dayOfMonth.toInt)\n",
      "\n",
      "    (date,depDelay,month,dayOfMonth,dayOfWeek,hour,distance,holidayDist.toString)\n",
      "  }\n",
      "\n",
      "  def get_hour(depTime: String) = \"%04d\".format(depTime.toInt).take(2)\n",
      "\n",
      "  def to_date(year: Int, month: Int, day: Int) = \"%04d%02d%02d\".format(year, month, day)\n",
      "\n",
      "  def days_from_nearest_holiday(year:Int, month:Int, day:Int) = {\n",
      "    val sampleDate = new DateTime(year, month, day, 0, 0)\n",
      "\n",
      "    holidays.foldLeft(3000) { (r, c) =>\n",
      "      val holiday = DateTimeFormat.forPattern(\"MM/dd/yyyy\").parseDateTime(c)\n",
      "      val distance = Math.abs(Days.daysBetween(holiday, sampleDate).getDays)\n",
      "      math.min(r, distance)\n",
      "    }\n",
      "  }\n",
      "}\n"
     ],
     "language": "python",
     "metadata": {},
     "outputs": [
      {
       "output_type": "stream",
       "stream": "stdout",
       "text": [
        "Overwriting preprocess1.scala\n"
       ]
      }
     ],
     "prompt_number": 8
    },
    {
     "cell_type": "markdown",
     "metadata": {},
     "source": [
      "We execute this Scalding code using the standard \"scald.rb\" script, generating the feature matrix for both the 2007 dataset and 2008 dataset. Note we use IPython's \"%%capture\" magic command to capture the output of the Scalding script and print only error messages, if any (stderr)"
     ]
    },
    {
     "cell_type": "code",
     "collapsed": false,
     "input": [
      "%%capture capt2007_1\n",
      "!/home/demo/scalding/scripts/scald.rb --hdfs preprocess1.scala --input \"airline/delay/2007.csv\" --output \"airline/fm/ord_2007_sc_1\""
     ],
     "language": "python",
     "metadata": {},
     "outputs": [],
     "prompt_number": 1
    },
    {
     "cell_type": "code",
     "collapsed": false,
     "input": [
      "capt2007_1.stderr"
     ],
     "language": "python",
     "metadata": {},
     "outputs": [
      {
       "metadata": {},
       "output_type": "pyout",
       "prompt_number": 6,
       "text": [
        "''"
       ]
      }
     ],
     "prompt_number": 6
    },
    {
     "cell_type": "code",
     "collapsed": false,
     "input": [
      "%%capture capt2008_1\n",
      "!/home/demo/scalding/scripts/scald.rb --hdfs preprocess1.scala --input \"airline/delay/2008.csv\" --output \"airline/fm/ord_2008_sc_1\""
     ],
     "language": "python",
     "metadata": {},
     "outputs": [],
     "prompt_number": 3
    },
    {
     "cell_type": "code",
     "collapsed": false,
     "input": [
      "capt2008_1.stderr"
     ],
     "language": "python",
     "metadata": {},
     "outputs": [
      {
       "metadata": {},
       "output_type": "pyout",
       "prompt_number": 4,
       "text": [
        "''"
       ]
      }
     ],
     "prompt_number": 4
    },
    {
     "cell_type": "heading",
     "level": 2,
     "metadata": {},
     "source": [
      "Modeling - iteration 1"
     ]
    },
    {
     "cell_type": "markdown",
     "metadata": {},
     "source": [
      "Now that we've generated our feature matrix using Scalding and Hadoop, let's turn to using R to build a predictive model for predicting airline delays. First we prepare our trainning set (using the 2007 data) and test set (using 2008 data):"
     ]
    },
    {
     "cell_type": "code",
     "collapsed": false,
     "input": [
      "%%R\n",
      "\n",
      "# Function to compute Precision, Recall and F1-Measure\n",
      "get_metrics <- function(predicted, actual) {\n",
      "  tp = length(which(predicted == TRUE & actual == TRUE))\n",
      "  tn = length(which(predicted == FALSE & actual == FALSE))\n",
      "  fp = length(which(predicted == TRUE & actual == FALSE))\n",
      "  fn = length(which(predicted == FALSE & actual == TRUE))\n",
      "\n",
      "  precision = tp / (tp+fp)\n",
      "  recall = tp / (tp+fn)\n",
      "  F1 = 2*precision*recall / (precision+recall)\n",
      "  accuracy = (tp+tn) / (tp+tn+fp+fn)\n",
      "  \n",
      "  v = c(precision, recall, F1, accuracy)\n",
      "  v\n",
      "}\n",
      "\n",
      "# Read input files\n",
      "process_dataset <- function(filename) {\n",
      "  cols = c('date', 'delay', 'month', 'day', 'dow', 'hour', 'distance', 'days_from_holiday')\n",
      "    \n",
      "  data = read_csv_from_hdfs(filename, cols)\n",
      "  data$delay = as.factor(as.numeric(data$delay) >= 15)\n",
      "  data$month = as.factor(data$month)\n",
      "  data$day = as.factor(data$day)\n",
      "  data$dow = as.factor(data$dow)\n",
      "  data$hour = as.numeric(data$hour)\n",
      "  data$distance = as.numeric(data$distance)\n",
      "  data$days_from_holiday = as.numeric(data$days_from_holiday)\n",
      "  data\n",
      "}\n",
      "\n",
      "# Prepare training set and test/validation set\n",
      "\n",
      "data_2007 = process_dataset('/user/demo/airline/fm/ord_2007_sc_1')\n",
      "data_2008 = process_dataset('/user/demo/airline/fm/ord_2008_sc_1')\n",
      "\n",
      "fcols = setdiff(names(data_2007), c('date', 'delay'))\n",
      "train_x = data_2007[,fcols, with=FALSE]\n",
      "train_y = data_2007$delay\n",
      "\n",
      "test_x = data_2008[,fcols, with=FALSE]\n",
      "test_y = data_2008$delay"
     ],
     "language": "python",
     "metadata": {},
     "outputs": [],
     "prompt_number": 11
    },
    {
     "cell_type": "markdown",
     "metadata": {},
     "source": [
      "The *preprocess_data* function reads the data from HDFS into an R data frame. We use it first to read the feature matrix based on 2007 into the *data_2007* R dataframe (used as a training set), and then similarly to build *data_2008* as the testing set. \n",
      "\n",
      "In this cell, we also define a helper function *get_metrics* that we will use later to measure precision, recall, F1 and accuracy.\n",
      "\n",
      "Now let's run R's random forest algorithm and evaluate the results:"
     ]
    },
    {
     "cell_type": "code",
     "collapsed": false,
     "input": [
      "%%R\n",
      "\n",
      "rf.model = randomForest(train_x, train_y, ntree=40)\n",
      "rf.pr <- predict(rf.model, newdata=test_x)\n",
      "m.rf = get_metrics(as.logical(rf.pr), as.logical(test_y))\n",
      "print(sprintf(\"Random Forest: precision=%0.2f, recall=%0.2f, F1=%0.2f, accuracy=%0.2f\", m.rf[1], m.rf[2], m.rf[3], m.rf[4]))"
     ],
     "language": "python",
     "metadata": {},
     "outputs": [
      {
       "metadata": {},
       "output_type": "display_data",
       "text": [
        "[1] \"Random Forest: precision=0.43, recall=0.30, F1=0.35, accuracy=0.69\"\n"
       ]
      }
     ],
     "prompt_number": 12
    },
    {
     "cell_type": "markdown",
     "metadata": {},
     "source": [
      "Let's also try R's Gradient Boosted Machines (GBM) modeling. \n",
      "GBM is an ensemble method that like random forest is typically robust to over-fitting."
     ]
    },
    {
     "cell_type": "code",
     "collapsed": false,
     "input": [
      "%%R\n",
      "\n",
      "gbm.model <- gbm.fit(train_x, as.numeric(train_y)-1, n.trees=500, verbose=F, shrinkage=0.01, distribution=\"bernoulli\", \n",
      "                     interaction.depth=3, n.minobsinnode=30)\n",
      "gbm.pr <- predict(gbm.model, newdata=test_x, n.trees=500, type=\"response\")\n",
      "m.gbm = get_metrics(gbm.pr >= 0.5, as.logical(test_y))\n",
      "print(sprintf(\"Gradient Boosted Machines: precision=%0.2f, recall=%0.2f, F1=%0.2f, accuracy=%0.2f\", m.gbm[1], m.gbm[2], m.gbm[3], m.gbm[4]))"
     ],
     "language": "python",
     "metadata": {},
     "outputs": [
      {
       "metadata": {},
       "output_type": "display_data",
       "text": [
        "[1] \"Gradient Boosted Machines: precision=0.53, recall=0.10, F1=0.17, accuracy=0.72\"\n"
       ]
      }
     ],
     "prompt_number": 13
    },
    {
     "cell_type": "markdown",
     "metadata": {},
     "source": [
      "Using Random Foresta and Gradient Boosted Machines we get pretty good results for our predictive model using a simple set of features. Following the same iterative model from the previous parts of this blog post, we now use additional data sources to enrich our core dataset and create new features that would help us achieve better predictive performance. "
     ]
    },
    {
     "cell_type": "heading",
     "level": 2,
     "metadata": {},
     "source": [
      "Pre-processing - iteration 2"
     ]
    },
    {
     "cell_type": "markdown",
     "metadata": {},
     "source": [
      "As we have demonstrated in part 1 and 2 of this blog post, a way to improve accuracy for this model is to layer-in weather data and with it add more informative features to our model. We can get this data from a publicly available dataset here: http://www.ncdc.noaa.gov/cdo-web/datasets//\n",
      "\n",
      "We now add these additional weather-related features to our model: daily temperatures (min/max), wind speed, snow conditions and precipitation in the flight origin airport (ORD). \n",
      "\n",
      "So let's re-write our Scalding program to add these new features to our feature matrix:"
     ]
    },
    {
     "cell_type": "code",
     "collapsed": false,
     "input": [
      "%%writefile preprocess2.scala\n",
      "\n",
      "package com.hortonworks.datascience.demo2\n",
      "\n",
      "import com.twitter.scalding._\n",
      "import org.joda.time.format._\n",
      "import org.joda.time.{Days, DateTime}\n",
      "import com.hortonworks.datascience.demo2.ScaldingFlightDelays._\n",
      "\n",
      "/**\n",
      " * pre-process flight and weather data into feature matrix - iteration #2\n",
      " */\n",
      "class ScaldingFlightDelays(args: Args) extends Job(args) {\n",
      "\n",
      "  val delayData = Csv(args(\"delay\"), \",\", fields = delayInSchema, skipHeader = true)\n",
      "    .read\n",
      "    .project(delaySchema)\n",
      "    .filter(('Origin,'Cancelled)) { x:(String,String) => x._1 == \"ORD\" && x._2 == \"0\"}\n",
      "    .mapTo(filterSchema -> featureSchmea)(gen_features)\n",
      "\n",
      "  val weatherData = Csv(args(\"weather\"),\",\", fields = weatherInSchema)\n",
      "    .read\n",
      "    .project(weatherSchema)\n",
      "    .filter('Station){x:String => x == \"USW00094846\"}\n",
      "    .filter('Metric){m:String => m == \"TMIN\" | m == \"TMAX\" | m == \"PRCP\" | m == \"SNOW\" | m == \"AWND\"}\n",
      "    .mapTo(weatherSchema -> ('Date,'MM)){tuple:(String,String,String,String) => (tuple._2,tuple._3+\":\"+tuple._4)}\n",
      "    .groupBy('Date){_.foldLeft('MM -> 'Measures)(Map[String,Double]()){\n",
      "        (m,s:String) => {val kv = s.split(\":\"); m + (kv(0) -> kv(1).toDouble)}\n",
      "      }\n",
      "    }\n",
      "\n",
      "  delayData.joinWithSmaller(('flightDate,'Date),weatherData)\n",
      "    .project('delay,'m,'dm,'dw,'h,'dist,'holiday,'Measures)\n",
      "    .mapTo(joinSchema -> outputSchema){x:(Double,Double,Double,Double,Double,Double,Double,Map[String,Double]) => {\n",
      "        (x._1, x._2, x._3, x._4, x._5, x._6, x._7, x._8(\"TMIN\"), x._8(\"TMAX\"), x._8(\"PRCP\"), x._8(\"SNOW\"), x._8(\"AWND\"))\n",
      "      }\n",
      "    }\n",
      "    .write(Csv(args(\"output\"),\",\"))\n",
      "}\n",
      "\n",
      "object ScaldingFlightDelays {\n",
      "  val delayInSchema = List('Year, 'Month, 'DayofMonth, 'DayOfWeek,\n",
      "                           'DepTime, 'CRSDepTime, 'ArrTime, 'CRSArrTime,\n",
      "                           'UniqueCarrier, 'FlightNum, 'TailNum,\n",
      "                           'ActualElapsedTime, 'CRSElapsedTime, 'AirTime,\n",
      "                           'ArrDelay, 'DepDelay, 'Origin, 'Dest,\n",
      "                           'Distance, 'TaxiIn, 'TaxiOut,\n",
      "                           'Cancelled, 'CancellationCode, 'Diverted,\n",
      "                           'CarrierDelay, 'WeatherDelay, 'NASDelay,\n",
      "                           'SecurityDelay, 'LateAircraftDelay)\n",
      "  val weatherInSchema = List('Station, 'Date, 'Metric, 'Measure, 'v1, 'v2, 'v3, 'v4)\n",
      "  val delaySchema = List('Year, 'Month, 'DayofMonth, 'DayOfWeek,\n",
      "                         'CRSDepTime, 'DepDelay, 'Origin, 'Distance, 'Cancelled);\n",
      "  val weatherSchema = List('Station, 'Date, 'Metric, 'Measure)\n",
      "  val filterSchema = List('Year, 'Month, 'DayofMonth, 'DayOfWeek, 'CRSDepTime, 'DepDelay, 'Distance)\n",
      "  val featureSchmea = List('flightDate,'delay,'m,'dm,'dw,'h,'dist,'holiday);\n",
      "  val joinSchema = List('delay,'m,'dm,'dw,'h,'dist,'holiday,'Measures)\n",
      "  val outputSchema = List('delay,'m,'dm,'dw,'h,'dist,'holiday,'tmin,'tmax,'prcp,'snow,'awnd)\n",
      "\n",
      "  val holidays = List(\"01/01/2007\", \"01/15/2007\", \"02/19/2007\", \"05/28/2007\", \"06/07/2007\", \"07/04/2007\",\n",
      "    \"09/03/2007\", \"10/08/2007\" ,\"11/11/2007\", \"11/22/2007\", \"12/25/2007\",\n",
      "    \"01/01/2008\", \"01/21/2008\", \"02/18/2008\", \"05/22/2008\", \"05/26/2008\", \"07/04/2008\",\n",
      "    \"09/01/2008\", \"10/13/2008\" ,\"11/11/2008\", \"11/27/2008\", \"12/25/2008\")\n",
      "\n",
      "  def gen_features(tuple: (String,String,String,String,String,String,String)) = {\n",
      "    val (year, month,dayOfMonth,dayOfWeek:String, crsDepTime:String,depDelay:String,distance:String) = tuple\n",
      "    val date = to_date(year.toInt,month.toInt,dayOfMonth.toInt)\n",
      "    val hour = get_hour(crsDepTime)\n",
      "    val holidayDist = days_from_nearest_holiday(year.toInt,month.toInt,dayOfMonth.toInt)\n",
      "\n",
      "    (date,depDelay,month,dayOfMonth,dayOfWeek,hour,distance,holidayDist.toString)\n",
      "  }\n",
      "\n",
      "  def get_hour(depTime: String) = \"%04d\".format(depTime.toInt).take(2)\n",
      "\n",
      "  def to_date(year: Int, month: Int, day: Int) = \"%04d%02d%02d\".format(year, month, day)\n",
      "\n",
      "  def days_from_nearest_holiday(year:Int, month:Int, day:Int) = {\n",
      "    val sampleDate = new DateTime(year, month, day, 0, 0)\n",
      "\n",
      "    holidays.foldLeft(3000) { (r, c) =>\n",
      "      val holiday = DateTimeFormat.forPattern(\"MM/dd/yyyy\").parseDateTime(c)\n",
      "      val distance = Math.abs(Days.daysBetween(holiday, sampleDate).getDays)\n",
      "      math.min(r, distance)\n",
      "    }\n",
      "  }\n",
      "}\n"
     ],
     "language": "python",
     "metadata": {},
     "outputs": [
      {
       "output_type": "stream",
       "stream": "stdout",
       "text": [
        "Overwriting preprocess2.scala\n"
       ]
      }
     ],
     "prompt_number": 14
    },
    {
     "cell_type": "code",
     "collapsed": false,
     "input": [
      "%%capture capt2007_2\n",
      "!/home/demo/scalding/scripts/scald.rb --hdfs preprocess2.scala --delay \"airline/delay/2007.csv\" --weather \"airline/weather/2007.csv\" --output \"airline/fm/ord_2007_sc_2\""
     ],
     "language": "python",
     "metadata": {},
     "outputs": [],
     "prompt_number": 9
    },
    {
     "cell_type": "code",
     "collapsed": false,
     "input": [
      "capt2007_2.stderr"
     ],
     "language": "python",
     "metadata": {},
     "outputs": [
      {
       "metadata": {},
       "output_type": "pyout",
       "prompt_number": 10,
       "text": [
        "''"
       ]
      }
     ],
     "prompt_number": 10
    },
    {
     "cell_type": "code",
     "collapsed": false,
     "input": [
      "%%capture capt2008_2\n",
      "!/home/demo/scalding/scripts/scald.rb --hdfs preprocess2.scala --delay \"airline/delay/2008.csv\" --weather \"airline/weather/2008.csv\" --output \"airline/fm/ord_2008_sc_2\""
     ],
     "language": "python",
     "metadata": {},
     "outputs": [],
     "prompt_number": 11
    },
    {
     "cell_type": "code",
     "collapsed": false,
     "input": [
      "capt2008_2.stderr"
     ],
     "language": "python",
     "metadata": {},
     "outputs": [
      {
       "metadata": {},
       "output_type": "pyout",
       "prompt_number": 12,
       "text": [
        "''"
       ]
      }
     ],
     "prompt_number": 12
    },
    {
     "cell_type": "heading",
     "level": 2,
     "metadata": {},
     "source": [
      "Modeling - iteration 2"
     ]
    },
    {
     "cell_type": "markdown",
     "metadata": {},
     "source": [
      "Now let's re-build the Random Forest and Gradient Boosted Tree models with the enahanced feature matrices.\n",
      "As before, we first prepare our training set and test set:"
     ]
    },
    {
     "cell_type": "code",
     "collapsed": false,
     "input": [
      "%%R\n",
      "\n",
      "# Read input files\n",
      "process_dataset <- function(filename) {\n",
      "  cols = c('delay', 'month', 'day', 'dow', 'hour', 'distance', 'days_from_holiday', \n",
      "           'tmin', 'tmax', 'prcp', 'snow', 'awnd')\n",
      "    \n",
      "  data = read_csv_from_hdfs(filename, cols)\n",
      "  data$delay = as.factor(as.numeric(data$delay) >= 15)\n",
      "  data$month = as.factor(data$month)\n",
      "  data$day = as.factor(data$day)\n",
      "  data$dow = as.factor(data$dow)\n",
      "  data$hour = as.numeric(data$hour)\n",
      "  data$distance = as.numeric(data$distance)\n",
      "  data$days_from_holiday = as.numeric(data$days_from_holiday)\n",
      "  data$tmin = as.numeric(data$tmin)\n",
      "  data$tmax = as.numeric(data$tmax)\n",
      "  data$prcp = as.numeric(data$prcp)\n",
      "  data$snow = as.numeric(data$snow)\n",
      "  data$awnd = as.numeric(data$awnd)\n",
      "  data\n",
      "}\n",
      "\n",
      "# Prepare training set and test/validation set\n",
      "\n",
      "data_2007 = process_dataset('/user/demo/airline/fm/ord_2007_sc_2')\n",
      "data_2008 = process_dataset('/user/demo/airline/fm/ord_2008_sc_2')\n",
      "\n",
      "fcols = setdiff(names(data_2007), c('delay'))\n",
      "train_x = data_2007[,fcols]\n",
      "train_y = data_2007$delay\n",
      "\n",
      "test_x = data_2008[,fcols]\n",
      "test_y = data_2008$delay"
     ],
     "language": "python",
     "metadata": {},
     "outputs": [],
     "prompt_number": 7
    },
    {
     "cell_type": "markdown",
     "metadata": {},
     "source": [
      "And now to build a Random Forest model:"
     ]
    },
    {
     "cell_type": "code",
     "collapsed": false,
     "input": [
      "%%R\n",
      "\n",
      "rf.model = randomForest(train_x, train_y, ntree=40)\n",
      "rf.pr <- predict(rf.model, newdata=test_x)\n",
      "m.rf = get_metrics(as.logical(rf.pr), as.logical(test_y))\n",
      "print(sprintf(\"Random Forest: precision=%0.2f, recall=%0.2f, F1=%0.2f, accuracy=%0.2f\", \n",
      "              m.rf[1], m.rf[2], m.rf[3], m.rf[4]))"
     ],
     "language": "python",
     "metadata": {},
     "outputs": [
      {
       "metadata": {},
       "output_type": "display_data",
       "text": [
        "[1] \"Random Forest: precision=0.58, recall=0.38, F1=0.45, accuracy=0.74\"\n"
       ]
      }
     ],
     "prompt_number": 8
    },
    {
     "cell_type": "markdown",
     "metadata": {},
     "source": [
      "And the gradient boosted tree model:"
     ]
    },
    {
     "cell_type": "code",
     "collapsed": false,
     "input": [
      "%%R\n",
      "\n",
      "gbm.model <- gbm.fit(train_x, as.numeric(train_y)-1, n.trees=500, verbose=F, shrinkage=0.01, distribution=\"bernoulli\", \n",
      "                     interaction.depth=3, n.minobsinnode=30)\n",
      "gbm.pr <- predict(gbm.model, newdata=test_x, n.trees=500, type=\"response\")\n",
      "m.gbm = get_metrics(gbm.pr >= 0.5, as.logical(test_y))\n",
      "print(sprintf(\"Gradient Boosted Machines: precision=%0.2f, recall=%0.2f, F1=%0.2f, accuracy=%0.2f\", \n",
      "              m.gbm[1], m.gbm[2], m.gbm[3], m.gbm[4]))"
     ],
     "language": "python",
     "metadata": {},
     "outputs": [
      {
       "metadata": {},
       "output_type": "display_data",
       "text": [
        "[1] \"Gradient Boosted Machines: precision=0.63, recall=0.27, F1=0.38, accuracy=0.75\"\n"
       ]
      }
     ],
     "prompt_number": 9
    },
    {
     "cell_type": "heading",
     "level": 2,
     "metadata": {},
     "source": [
      "Summary"
     ]
    },
    {
     "cell_type": "markdown",
     "metadata": {},
     "source": [
      "In this 3rd part of our blog post we used an IPython notebook to demonstrate how to build a predictive model for airline delays. We have used Scalding on our HDP cluster to perform various types of data pre-processing and feature engineering tasks. We then applied a few machine learning algorithms such as random forest and gradient boosted machines to the resulting datasets and showed how through iterations we add new features resulting in better model performance."
     ]
    }
   ],
   "metadata": {}
  }
 ]
}